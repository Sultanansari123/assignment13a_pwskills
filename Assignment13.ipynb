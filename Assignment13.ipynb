{
 "cells": [
  {
   "cell_type": "markdown",
   "id": "d72bfbb1-a44b-4b0c-bb28-442821c13fbd",
   "metadata": {},
   "source": [
    "# Ans1-"
   ]
  },
  {
   "cell_type": "markdown",
   "id": "773c281c-33b5-474c-a364-67aeec91b0a1",
   "metadata": {},
   "source": [
    "Random forest regressor is a machine learning algorithm that predicts numerical values by combining multiple decision trees."
   ]
  },
  {
   "cell_type": "markdown",
   "id": "696c5798-acde-4436-927e-6f2659367acb",
   "metadata": {},
   "source": [
    "# Ans2-"
   ]
  },
  {
   "cell_type": "markdown",
   "id": "9924443b-32b5-4b75-b60c-715f94f5a4df",
   "metadata": {},
   "source": [
    "Random forest regressor reduce overfitting by averaging prediction from multiple decorrelated decision trees."
   ]
  },
  {
   "cell_type": "markdown",
   "id": "da9caf25-fb4b-409f-9f4e-bfffef18b148",
   "metadata": {},
   "source": [
    "# Ans3-"
   ]
  },
  {
   "cell_type": "markdown",
   "id": "5f1a9544-39a1-411a-8d63-65c99a096a9d",
   "metadata": {},
   "source": [
    "Random forest regressor aggregates prediction by averaging from multiple decision trees in the ensemble."
   ]
  },
  {
   "cell_type": "markdown",
   "id": "104e206c-7e80-4671-8997-69c4d237f0bc",
   "metadata": {},
   "source": [
    "# Ans4-"
   ]
  },
  {
   "cell_type": "markdown",
   "id": "651d4cdb-ac99-455c-81a3-57a41e898d56",
   "metadata": {},
   "source": [
    "Hyperparameters of Random Forest Regressor include the number of trees, maximum depth of trees, and minimum samples required to split a node."
   ]
  },
  {
   "cell_type": "markdown",
   "id": "20153291-3ab5-421c-a29b-a7a17122455f",
   "metadata": {},
   "source": [
    "# Ans5-"
   ]
  },
  {
   "cell_type": "markdown",
   "id": "4f818ae7-30f8-49f0-8b14-2b30e8f32717",
   "metadata": {},
   "source": [
    "Random Forest Regressor is an ensemble of decision trees, while Decision Tree Regressor is a single tree; the former averages predictions to improve performance.\n",
    "\n",
    "\n",
    "\n",
    "\n"
   ]
  },
  {
   "cell_type": "markdown",
   "id": "55ab6996-babf-4800-a186-58ba841de1af",
   "metadata": {},
   "source": [
    "# Ans6-"
   ]
  },
  {
   "cell_type": "markdown",
   "id": "138bea83-13cc-4479-bdf6-1b6dfd3aee55",
   "metadata": {},
   "source": [
    "Advantages: Robust to overfitting, handles missing values well.\n",
    "\n",
    "Disadvantages: Complexity, less interpretable than a single decision tree."
   ]
  },
  {
   "cell_type": "markdown",
   "id": "6b15c5d3-77f7-4026-9662-47eef2f3093e",
   "metadata": {},
   "source": [
    "# Ans7-"
   ]
  },
  {
   "cell_type": "markdown",
   "id": "b4975fdf-a04b-4325-8e7f-a80d2f322bf0",
   "metadata": {},
   "source": [
    "The output of a Random Forest Regressor is the averaged (or aggregated) prediction of the individual decision trees in the ensemble."
   ]
  },
  {
   "cell_type": "markdown",
   "id": "996a60a5-9185-4424-a53d-06563b0746ac",
   "metadata": {},
   "source": [
    "# Ans8-"
   ]
  },
  {
   "cell_type": "markdown",
   "id": "8fad40ec-a9e7-4d4c-9351-af14bfba9481",
   "metadata": {},
   "source": [
    "Yes, Random Forest can be used for classification tasks as well."
   ]
  },
  {
   "cell_type": "code",
   "execution_count": null,
   "id": "d8f75846-de06-42c2-aa79-49270e8ecddb",
   "metadata": {},
   "outputs": [],
   "source": []
  }
 ],
 "metadata": {
  "kernelspec": {
   "display_name": "Python 3 (ipykernel)",
   "language": "python",
   "name": "python3"
  },
  "language_info": {
   "codemirror_mode": {
    "name": "ipython",
    "version": 3
   },
   "file_extension": ".py",
   "mimetype": "text/x-python",
   "name": "python",
   "nbconvert_exporter": "python",
   "pygments_lexer": "ipython3",
   "version": "3.10.8"
  }
 },
 "nbformat": 4,
 "nbformat_minor": 5
}
